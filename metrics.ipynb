{
 "cells": [
  {
   "cell_type": "code",
   "execution_count": 9,
   "metadata": {},
   "outputs": [],
   "source": [
    "from typing import Union\n",
    "import pandas as pd\n",
    "import numpy as np"
   ]
  },
  {
   "cell_type": "code",
   "execution_count": 10,
   "metadata": {},
   "outputs": [],
   "source": [
    "def accuracy(y_hat: pd.Series, y: pd.Series) -> float:\n",
    "    \"\"\"\n",
    "    Function to calculate the accuracy\n",
    "    \"\"\"\n",
    "\n",
    "    \"\"\"\n",
    "    The following assert checks if sizes of y_hat and y are equal.\n",
    "    Students are required to add appropriate assert checks at places to\n",
    "    ensure that the function does not fail in corner cases.\n",
    "    \"\"\"\n",
    "    assert y_hat.size == y.size\n",
    "    # TODO: Write here\n",
    "    assert isinstance(y_hat, pd.Series) and isinstance(y, pd.Series)\n",
    "    assert y_hat.size>0\n",
    "    assert y.size>0\n",
    "    assert y_hat.dtype == y.dtype\n",
    "    assert y_hat.isna().sum()==0\n",
    "    assert y.isna().sum()==0\n",
    "    tot_eq = (y_hat==y).sum()\n",
    "    tot_sum = y.size\n",
    "    return tot_eq/tot_sum\n",
    "    \n"
   ]
  },
  {
   "cell_type": "code",
   "execution_count": 11,
   "metadata": {},
   "outputs": [],
   "source": [
    "def precision(y_hat: pd.Series, y: pd.Series, cls: Union[int, str]) -> float:\n",
    "    \"\"\"\n",
    "    Function to calculate the precision\n",
    "    \"\"\"\n",
    "    num = ((y==cls) & (y_hat==y)).sum()\n",
    "    den = (y_hat==cls).sum()\n",
    "    if(den==0):\n",
    "        return 0\n",
    "    return num/den"
   ]
  },
  {
   "cell_type": "code",
   "execution_count": 12,
   "metadata": {},
   "outputs": [],
   "source": [
    "def recall(y_hat: pd.Series, y: pd.Series, cls: Union[int, str]) -> float:\n",
    "    \"\"\"\n",
    "    Function to calculate the recall\n",
    "    \"\"\"\n",
    "    num = ((y==cls) & (y_hat==y)).sum()\n",
    "    den = (y==cls).sum()\n",
    "    if(den==0):\n",
    "        return 0\n",
    "    return num/den"
   ]
  },
  {
   "cell_type": "code",
   "execution_count": 13,
   "metadata": {},
   "outputs": [],
   "source": [
    "def rmse(y_hat: pd.Series, y: pd.Series) -> float:\n",
    "    \"\"\"\n",
    "    Function to calculate the root-mean-squared-error(rmse)\n",
    "    \"\"\"\n",
    "    mean_squared_difference = np.sqrt(((y-y_hat)**2).mean())\n",
    "\n",
    "    return mean_squared_difference"
   ]
  },
  {
   "cell_type": "code",
   "execution_count": 14,
   "metadata": {},
   "outputs": [],
   "source": [
    "def mae(y_hat: pd.Series, y: pd.Series) -> float:\n",
    "    \"\"\"\n",
    "    Function to calculate the mean-absolute-error(mae)\n",
    "    \"\"\"\n",
    "    mae = abs(y-y_hat).mean()\n",
    "    return mae"
   ]
  },
  {
   "cell_type": "code",
   "execution_count": null,
   "metadata": {},
   "outputs": [],
   "source": []
  },
  {
   "cell_type": "code",
   "execution_count": null,
   "metadata": {},
   "outputs": [],
   "source": []
  },
  {
   "cell_type": "code",
   "execution_count": null,
   "metadata": {},
   "outputs": [],
   "source": []
  }
 ],
 "metadata": {
  "kernelspec": {
   "display_name": "Python 3",
   "language": "python",
   "name": "python3"
  },
  "language_info": {
   "codemirror_mode": {
    "name": "ipython",
    "version": 3
   },
   "file_extension": ".py",
   "mimetype": "text/x-python",
   "name": "python",
   "nbconvert_exporter": "python",
   "pygments_lexer": "ipython3",
   "version": "3.10.14"
  }
 },
 "nbformat": 4,
 "nbformat_minor": 2
}
