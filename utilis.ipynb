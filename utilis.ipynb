{
 "cells": [
  {
   "cell_type": "code",
   "execution_count": 1,
   "metadata": {},
   "outputs": [],
   "source": [
    "# \"\"\"\n",
    "# You can add your own functions here according to your decision tree implementation.\n",
    "# There is no restriction on following the below template, these fucntions are here to simply help you.\n",
    "# \"\"\""
   ]
  },
  {
   "cell_type": "code",
   "execution_count": 9,
   "metadata": {},
   "outputs": [],
   "source": [
    "import pandas as pd\n",
    "from sklearn.preprocessing import OneHotEncoder"
   ]
  },
  {
   "cell_type": "code",
   "execution_count": 2,
   "metadata": {},
   "outputs": [],
   "source": [
    "def one_hot_encoding(X: pd.DataFrame) -> pd.DataFrame:\n",
    "    \"\"\"\n",
    "    Function to perform one hot encoding on the input data\n",
    "    \"\"\"\n",
    "    # Initialize OneHotEncoder\n",
    "    encoder = OneHotEncoder(sparse=False)\n",
    "\n",
    "    # Fit and transform the data\n",
    "    encoded_array = encoder.fit_transform(X)\n",
    "    encoded_df = pd.DataFrame(encoded_array, columns=encoder.get_feature_names_out(df.columns))\n",
    "    return encoded_df\n"
   ]
  },
  {
   "cell_type": "code",
   "execution_count": 3,
   "metadata": {},
   "outputs": [],
   "source": [
    "def check_ifreal(y: pd.Series) -> bool:\n",
    "    \"\"\"\n",
    "    Function to check if the given series has real or discrete values\n",
    "    \"\"\"\n",
    "\n",
    "    pass\n",
    "\n"
   ]
  },
  {
   "cell_type": "code",
   "execution_count": 4,
   "metadata": {},
   "outputs": [],
   "source": [
    "def entropy(Y: pd.Series) -> float:\n",
    "    \"\"\"\n",
    "    Function to calculate the entropy\n",
    "    \"\"\"\n",
    "\n",
    "    pass\n",
    "\n"
   ]
  },
  {
   "cell_type": "code",
   "execution_count": 5,
   "metadata": {},
   "outputs": [],
   "source": [
    "def gini_index(Y: pd.Series) -> float:\n",
    "    \"\"\"\n",
    "    Function to calculate the gini index\n",
    "    \"\"\"\n",
    "\n",
    "    pass"
   ]
  },
  {
   "cell_type": "code",
   "execution_count": 6,
   "metadata": {},
   "outputs": [],
   "source": [
    "def information_gain(Y: pd.Series, attr: pd.Series, criterion: str) -> float:\n",
    "    \"\"\"\n",
    "    Function to calculate the information gain using criterion (entropy, gini index or MSE)\n",
    "    \"\"\"\n",
    "\n",
    "    pass\n"
   ]
  },
  {
   "cell_type": "code",
   "execution_count": 7,
   "metadata": {},
   "outputs": [],
   "source": [
    "def opt_split_attribute(X: pd.DataFrame, y: pd.Series, criterion, features: pd.Series):\n",
    "    \"\"\"\n",
    "    Function to find the optimal attribute to split about.\n",
    "    If needed you can split this function into 2, one for discrete and one for real valued features.\n",
    "    You can also change the parameters of this function according to your implementation.\n",
    "\n",
    "    features: pd.Series is a list of all the attributes we have to split upon\n",
    "\n",
    "    return: attribute to split upon\n",
    "    \"\"\"\n",
    "\n",
    "    # According to wheather the features are real or discrete valued and the criterion, find the attribute from the features series with the maximum information gain (entropy or varinace based on the type of output) or minimum gini index (discrete output).\n",
    "\n",
    "    pass\n"
   ]
  },
  {
   "cell_type": "code",
   "execution_count": 8,
   "metadata": {},
   "outputs": [],
   "source": [
    "def split_data(X: pd.DataFrame, y: pd.Series, attribute, value):\n",
    "    \"\"\"\n",
    "    Funtion to split the data according to an attribute.\n",
    "    If needed you can split this function into 2, one for discrete and one for real valued features.\n",
    "    You can also change the parameters of this function according to your implementation.\n",
    "\n",
    "    attribute: attribute/feature to split upon\n",
    "    value: value of that attribute to split upon\n",
    "\n",
    "    return: splitted data(Input and output)\n",
    "    \"\"\"\n",
    "\n",
    "    # Split the data based on a particular value of a particular attribute. You may use masking as a tool to split the data.\n",
    "\n",
    "    pass"
   ]
  },
  {
   "cell_type": "code",
   "execution_count": null,
   "metadata": {},
   "outputs": [],
   "source": []
  }
 ],
 "metadata": {
  "kernelspec": {
   "display_name": "Python 3",
   "language": "python",
   "name": "python3"
  },
  "language_info": {
   "codemirror_mode": {
    "name": "ipython",
    "version": 3
   },
   "file_extension": ".py",
   "mimetype": "text/x-python",
   "name": "python",
   "nbconvert_exporter": "python",
   "pygments_lexer": "ipython3",
   "version": "3.10.14"
  }
 },
 "nbformat": 4,
 "nbformat_minor": 2
}
