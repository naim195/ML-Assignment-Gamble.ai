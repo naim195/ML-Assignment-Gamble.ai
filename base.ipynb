{
 "cells": [
  {
   "cell_type": "code",
   "execution_count": 1,
   "metadata": {},
   "outputs": [
    {
     "ename": "ModuleNotFoundError",
     "evalue": "No module named 'tree'",
     "output_type": "error",
     "traceback": [
      "\u001b[1;31m---------------------------------------------------------------------------\u001b[0m",
      "\u001b[1;31mModuleNotFoundError\u001b[0m                       Traceback (most recent call last)",
      "Cell \u001b[1;32mIn[1], line 16\u001b[0m\n\u001b[0;32m     14\u001b[0m \u001b[38;5;28;01mimport\u001b[39;00m \u001b[38;5;21;01mpandas\u001b[39;00m \u001b[38;5;28;01mas\u001b[39;00m \u001b[38;5;21;01mpd\u001b[39;00m\n\u001b[0;32m     15\u001b[0m \u001b[38;5;28;01mimport\u001b[39;00m \u001b[38;5;21;01mmatplotlib\u001b[39;00m\u001b[38;5;21;01m.\u001b[39;00m\u001b[38;5;21;01mpyplot\u001b[39;00m \u001b[38;5;28;01mas\u001b[39;00m \u001b[38;5;21;01mplt\u001b[39;00m\n\u001b[1;32m---> 16\u001b[0m \u001b[38;5;28;01mfrom\u001b[39;00m \u001b[38;5;21;01mtree\u001b[39;00m\u001b[38;5;21;01m.\u001b[39;00m\u001b[38;5;21;01mutils\u001b[39;00m \u001b[38;5;28;01mimport\u001b[39;00m \u001b[38;5;241m*\u001b[39m\n\u001b[0;32m     18\u001b[0m np\u001b[38;5;241m.\u001b[39mrandom\u001b[38;5;241m.\u001b[39mseed(\u001b[38;5;241m42\u001b[39m)\n",
      "\u001b[1;31mModuleNotFoundError\u001b[0m: No module named 'tree'"
     ]
    }
   ],
   "source": [
    "# The current code given is for the Assignment 1.\n",
    "# You will be expected to use this to make trees for:\n",
    "# > discrete input, discrete output\n",
    "# > real input, real output\n",
    "# > real input, discrete output\n",
    "# > discrete input, real output\n",
    "# \"\"\"\n",
    "\n",
    "\n",
    "from dataclasses import dataclass\n",
    "from typing import Literal\n",
    "\n",
    "import numpy as np\n",
    "import pandas as pd\n",
    "import matplotlib.pyplot as plt\n",
    "from tree.utils import *\n",
    "\n",
    "np.random.seed(42)"
   ]
  },
  {
   "cell_type": "code",
   "execution_count": null,
   "metadata": {},
   "outputs": [],
   "source": [
    "@dataclass\n",
    "class DecisionTree:\n",
    "    criterion: Literal[\"information_gain\", \"gini_index\"]  # criterion won't be used for regression\n",
    "    max_depth: int  # The maximum depth the tree can grow to\n",
    "\n",
    "    def __init__(self, criterion, max_depth=5):\n",
    "        self.criterion = criterion\n",
    "        self.max_depth = max_depth\n",
    "\n",
    "    def fit(self, X: pd.DataFrame, y: pd.Series) -> None:\n",
    "        \"\"\"\n",
    "        Function to train and construct the decision tree\n",
    "        \"\"\"\n",
    "\n",
    "        # If you wish your code can have cases for different types of input and output data (discrete, real)\n",
    "        # Use the functions from utils.py to find the optimal attribute to split upon and then construct the tree accordingly.\n",
    "        # You may(according to your implemetation) need to call functions recursively to construct the tree. \n",
    "\n",
    "        pass\n",
    "\n",
    "    def predict(self, X: pd.DataFrame) -> pd.Series:\n",
    "        \"\"\"\n",
    "        Funtion to run the decision tree on test inputs\n",
    "        \"\"\"\n",
    "\n",
    "        # Traverse the tree you constructed to return the predicted values for the given test inputs.\n",
    "\n",
    "        pass\n",
    "\n",
    "    def plot(self) -> None:\n",
    "        \"\"\"\n",
    "        Function to plot the tree\n",
    "\n",
    "        Output Example:\n",
    "        ?(X1 > 4)\n",
    "            Y: ?(X2 > 7)\n",
    "                Y: Class A\n",
    "                N: Class B\n",
    "            N: Class C\n",
    "        Where Y => Yes and N => No\n",
    "        \"\"\"\n",
    "        pass"
   ]
  }
 ],
 "metadata": {
  "kernelspec": {
   "display_name": "Python 3",
   "language": "python",
   "name": "python3"
  },
  "language_info": {
   "codemirror_mode": {
    "name": "ipython",
    "version": 3
   },
   "file_extension": ".py",
   "mimetype": "text/x-python",
   "name": "python",
   "nbconvert_exporter": "python",
   "pygments_lexer": "ipython3",
   "version": "3.10.14"
  }
 },
 "nbformat": 4,
 "nbformat_minor": 2
}
